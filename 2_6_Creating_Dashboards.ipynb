{
 "cells": [
  {
   "cell_type": "code",
   "execution_count": 68,
   "id": "1996392c-14ed-4c10-88d6-f0317895759e",
   "metadata": {
    "executionInfo": {
     "elapsed": 2971,
     "status": "ok",
     "timestamp": 1755816961505,
     "user": {
      "displayName": "Faria Jaheen",
      "userId": "03238593764288616100"
     },
     "user_tz": 240
    },
    "id": "1996392c-14ed-4c10-88d6-f0317895759e"
   },
   "outputs": [],
   "source": [
    "import pandas as pd\n",
    "import plotly.express as px\n",
    "import plotly.graph_objects as go\n",
    "from plotly.subplots import make_subplots"
   ]
  },
  {
   "cell_type": "code",
   "execution_count": 49,
   "id": "ad54dd26-1a56-4122-a4f7-0e3b807c0f42",
   "metadata": {
    "executionInfo": {
     "elapsed": 5,
     "status": "ok",
     "timestamp": 1755816961513,
     "user": {
      "displayName": "Faria Jaheen",
      "userId": "03238593764288616100"
     },
     "user_tz": 240
    },
    "id": "ad54dd26-1a56-4122-a4f7-0e3b807c0f42"
   },
   "outputs": [],
   "source": [
    "# # Load trips (use only columns needed to save space)\n",
    "# #usecols = [\n",
    "#     \"ride_id\", \"rideable_type\", \"started_at\", \"ended_at\",\n",
    "#     \"start_station_name\", \"end_station_name\",\n",
    "#     \"start_lat\", \"start_lng\", \"end_lat\", \"end_lng\", \"member_casual\"\n",
    "# ]\n",
    "# trips = pd.read_csv(\"citibike_2022.csv\", usecols=usecols, parse_dates=[\"started_at\", \"ended_at\"])\n",
    "\n",
    "# # Filter: first 6 months of 2022 (Jan–Jun)\n",
    "# trips_6m = trips[trips[\"started_at\"].dt.month <= 6]\n",
    "\n",
    "# # Save reduced dataset\n",
    "# trips_6m.to_csv(\"citibike_2022_6months.csv\", index=False)\n",
    "# print(\"Saved citibike_2022_6months.csv:\", trips_6m.shape)\n"
   ]
  },
  {
   "cell_type": "code",
   "execution_count": 50,
   "id": "f6dd986b-54fe-4e20-a804-33a851dc7a78",
   "metadata": {
    "executionInfo": {
     "elapsed": 8,
     "status": "ok",
     "timestamp": 1755816961522,
     "user": {
      "displayName": "Faria Jaheen",
      "userId": "03238593764288616100"
     },
     "user_tz": 240
    },
    "id": "f6dd986b-54fe-4e20-a804-33a851dc7a78"
   },
   "outputs": [],
   "source": [
    "# # Load trips (use only columns needed to save space)\n",
    "# usecols = [\n",
    "#     \"ride_id\", \"rideable_type\", \"started_at\", \"ended_at\",\n",
    "#     \"start_station_name\", \"end_station_name\",\n",
    "#     \"start_lat\", \"start_lng\", \"end_lat\", \"end_lng\", \"member_casual\"\n",
    "# ]\n",
    "# trips = pd.read_csv(\"citibike_2022.csv\", usecols=usecols, parse_dates=[\"started_at\", \"ended_at\"])\n",
    "\n",
    "# # Filter: first 6 months of 2022 (Jan–Jun)\n",
    "# trips_3m = trips[trips[\"started_at\"].dt.month <= 3]\n",
    "\n",
    "# # Save reduced dataset\n",
    "# trips_6m.to_csv(\"citibike_2022_3months.csv\", index=False)\n",
    "# print(\"Saved citibike_2022_3months.csv:\", trips_3m.shape)"
   ]
  },
  {
   "cell_type": "code",
   "execution_count": 51,
   "id": "41ac6d50-c04d-446f-8bc6-46f5b610ceff",
   "metadata": {
    "executionInfo": {
     "elapsed": 14,
     "status": "ok",
     "timestamp": 1755816961538,
     "user": {
      "displayName": "Faria Jaheen",
      "userId": "03238593764288616100"
     },
     "user_tz": 240
    },
    "id": "41ac6d50-c04d-446f-8bc6-46f5b610ceff"
   },
   "outputs": [],
   "source": [
    "# # Load trips (use only columns needed to save space)\n",
    "# usecols = [\n",
    "#     \"ride_id\", \"rideable_type\", \"started_at\", \"ended_at\",\n",
    "#     \"start_station_name\", \"end_station_name\",\n",
    "#     \"start_lat\", \"start_lng\", \"end_lat\", \"end_lng\", \"member_casual\"\n",
    "# ]\n",
    "# trips = pd.read_csv(\"citibike_2022.csv\", usecols=usecols, parse_dates=[\"started_at\", \"ended_at\"])\n",
    "\n",
    "# # Filter: first 6 months of 2022 (Jan–Jun)\n",
    "# trips_2m = trips[trips[\"started_at\"].dt.month <= 2]\n",
    "\n",
    "# # Save reduced dataset\n",
    "# trips_2m.to_csv(\"citibike_2022_2months.csv\", index=False)\n",
    "# print(\"Saved citibike_2022_2months.csv:\", trips_2m.shape)"
   ]
  },
  {
   "cell_type": "code",
   "execution_count": 52,
   "id": "80abd32d-df8c-4028-a03c-f29aa1286730",
   "metadata": {
    "colab": {
     "base_uri": "https://localhost:8080/",
     "height": 356
    },
    "executionInfo": {
     "elapsed": 48,
     "status": "error",
     "timestamp": 1755816961587,
     "user": {
      "displayName": "Faria Jaheen",
      "userId": "03238593764288616100"
     },
     "user_tz": 240
    },
    "id": "80abd32d-df8c-4028-a03c-f29aa1286730",
    "outputId": "59e5a104-bfa1-410f-d45e-315270c7785d"
   },
   "outputs": [
    {
     "name": "stdout",
     "output_type": "stream",
     "text": [
      "Saved citibike_2022_1months.csv: (109, 11)\n"
     ]
    }
   ],
   "source": [
    "# Load trips (use only columns needed to save space)\n",
    "usecols = [\n",
    "    \"ride_id\", \"rideable_type\", \"started_at\", \"ended_at\",\n",
    "    \"start_station_name\", \"end_station_name\",\n",
    "    \"start_lat\", \"start_lng\", \"end_lat\", \"end_lng\", \"member_casual\"\n",
    "]\n",
    "trips = pd.read_csv(\"citibike_2022.csv\", usecols=usecols, parse_dates=[\"started_at\", \"ended_at\"])\n",
    "\n",
    "# Filter: first 6 months of 2022 (Jan–Jun)\n",
    "trips_1m = trips[trips[\"started_at\"].dt.month <= 1]\n",
    "\n",
    "# Save reduced dataset\n",
    "trips_1m.to_csv(\"citibike_2022_1months.csv\", index=False)\n",
    "print(\"Saved citibike_2022_1months.csv:\", trips_1m.shape)"
   ]
  },
  {
   "cell_type": "code",
   "execution_count": 53,
   "id": "0364c284-d219-47ae-8d98-5f4fca4d945f",
   "metadata": {
    "executionInfo": {
     "elapsed": 21,
     "status": "aborted",
     "timestamp": 1755816961634,
     "user": {
      "displayName": "Faria Jaheen",
      "userId": "03238593764288616100"
     },
     "user_tz": 240
    },
    "id": "0364c284-d219-47ae-8d98-5f4fca4d945f"
   },
   "outputs": [
    {
     "name": "stdout",
     "output_type": "stream",
     "text": [
      "Saved laguardia_weather_2022_1months.csv: (93, 5)\n"
     ]
    }
   ],
   "source": [
    "# Load weather\n",
    "weather = pd.read_csv(\"laguardia_weather_2022.csv\")\n",
    "\n",
    "# Ensure datetime\n",
    "weather[\"date\"] = pd.to_datetime(weather[\"date\"].astype(str).str[:10], errors=\"coerce\")\n",
    "\n",
    "# Filter: first month\n",
    "weather_1m = weather[weather[\"date\"].dt.month <= 1]\n",
    "\n",
    "# Save reduced dataset\n",
    "weather_1m.to_csv(\"laguardia_weather_2022_1months.csv\", index=False)\n",
    "print(\"Saved laguardia_weather_2022_1months.csv:\", weather_1m.shape)"
   ]
  },
  {
   "cell_type": "code",
   "execution_count": 54,
   "id": "33db7f01-6b4b-4062-851c-50319ee685f7",
   "metadata": {
    "executionInfo": {
     "elapsed": 3165,
     "status": "aborted",
     "timestamp": 1755816961634,
     "user": {
      "displayName": "Faria Jaheen",
      "userId": "03238593764288616100"
     },
     "user_tz": 240
    },
    "id": "33db7f01-6b4b-4062-851c-50319ee685f7",
    "scrolled": true
   },
   "outputs": [
    {
     "name": "stdout",
     "output_type": "stream",
     "text": [
      "✅ Saved top_stations.csv\n",
      "Saved daily_trips.csv (with weather columns)\n"
     ]
    },
    {
     "data": {
      "application/vnd.plotly.v1+json": {
       "config": {
        "plotlyServerURL": "https://plot.ly"
       },
       "data": [
        {
         "alignmentgroup": "True",
         "hovertemplate": "Station=%{x}<br>Trips=%{marker.color}<extra></extra>",
         "legendgroup": "",
         "marker": {
          "color": [
           3,
           2,
           2,
           2,
           2,
           2,
           2,
           2,
           2,
           2,
           2,
           2,
           2,
           1,
           1,
           1,
           1,
           1,
           1,
           1
          ],
          "coloraxis": "coloraxis",
          "pattern": {
           "shape": ""
          }
         },
         "name": "",
         "offsetgroup": "",
         "orientation": "v",
         "showlegend": false,
         "textposition": "auto",
         "type": "bar",
         "x": [
          "E 33 St & 1 Ave",
          "Forsyth St\\t& Grand St",
          "Richardson St & N Henry St",
          "W 4 St & 7 Ave S",
          "E 39 St & Lexington Ave",
          "E 4 St & 2 Ave",
          "W 50 St & 9 Ave",
          "8 Ave & W 31 St",
          "Degraw St & Smith St",
          "2 Ave & E 29 St",
          "1 Ave & E 39 St",
          "1 Ave & E 62 St",
          "11 Ave & W 41 St",
          "Jay St & Tech Pl",
          "Van Buren St & Broadway",
          "Union St & Nevins St",
          "Underhill Ave & Lincoln Pl",
          "Suydam St & Broadway",
          "St Nicholas Ave & W 150 St",
          "Greenwich St & Perry St"
         ],
         "xaxis": "x",
         "y": [
          3,
          2,
          2,
          2,
          2,
          2,
          2,
          2,
          2,
          2,
          2,
          2,
          2,
          1,
          1,
          1,
          1,
          1,
          1,
          1
         ],
         "yaxis": "y"
        }
       ],
       "layout": {
        "barmode": "relative",
        "coloraxis": {
         "colorbar": {
          "title": {
           "text": "Trips"
          }
         },
         "colorscale": [
          [
           0,
           "rgb(247,251,255)"
          ],
          [
           0.125,
           "rgb(222,235,247)"
          ],
          [
           0.25,
           "rgb(198,219,239)"
          ],
          [
           0.375,
           "rgb(158,202,225)"
          ],
          [
           0.5,
           "rgb(107,174,214)"
          ],
          [
           0.625,
           "rgb(66,146,198)"
          ],
          [
           0.75,
           "rgb(33,113,181)"
          ],
          [
           0.875,
           "rgb(8,81,156)"
          ],
          [
           1,
           "rgb(8,48,107)"
          ]
         ]
        },
        "legend": {
         "tracegroupgap": 0
        },
        "template": {
         "data": {
          "candlestick": [
           {
            "decreasing": {
             "line": {
              "color": "#000033"
             }
            },
            "increasing": {
             "line": {
              "color": "#000032"
             }
            },
            "type": "candlestick"
           }
          ],
          "contour": [
           {
            "colorscale": [
             [
              0,
              "#000011"
             ],
             [
              0.1111111111111111,
              "#000012"
             ],
             [
              0.2222222222222222,
              "#000013"
             ],
             [
              0.3333333333333333,
              "#000014"
             ],
             [
              0.4444444444444444,
              "#000015"
             ],
             [
              0.5555555555555556,
              "#000016"
             ],
             [
              0.6666666666666666,
              "#000017"
             ],
             [
              0.7777777777777778,
              "#000018"
             ],
             [
              0.8888888888888888,
              "#000019"
             ],
             [
              1,
              "#000020"
             ]
            ],
            "type": "contour"
           }
          ],
          "contourcarpet": [
           {
            "colorscale": [
             [
              0,
              "#000011"
             ],
             [
              0.1111111111111111,
              "#000012"
             ],
             [
              0.2222222222222222,
              "#000013"
             ],
             [
              0.3333333333333333,
              "#000014"
             ],
             [
              0.4444444444444444,
              "#000015"
             ],
             [
              0.5555555555555556,
              "#000016"
             ],
             [
              0.6666666666666666,
              "#000017"
             ],
             [
              0.7777777777777778,
              "#000018"
             ],
             [
              0.8888888888888888,
              "#000019"
             ],
             [
              1,
              "#000020"
             ]
            ],
            "type": "contourcarpet"
           }
          ],
          "heatmap": [
           {
            "colorscale": [
             [
              0,
              "#000011"
             ],
             [
              0.1111111111111111,
              "#000012"
             ],
             [
              0.2222222222222222,
              "#000013"
             ],
             [
              0.3333333333333333,
              "#000014"
             ],
             [
              0.4444444444444444,
              "#000015"
             ],
             [
              0.5555555555555556,
              "#000016"
             ],
             [
              0.6666666666666666,
              "#000017"
             ],
             [
              0.7777777777777778,
              "#000018"
             ],
             [
              0.8888888888888888,
              "#000019"
             ],
             [
              1,
              "#000020"
             ]
            ],
            "type": "heatmap"
           }
          ],
          "histogram2d": [
           {
            "colorscale": [
             [
              0,
              "#000011"
             ],
             [
              0.1111111111111111,
              "#000012"
             ],
             [
              0.2222222222222222,
              "#000013"
             ],
             [
              0.3333333333333333,
              "#000014"
             ],
             [
              0.4444444444444444,
              "#000015"
             ],
             [
              0.5555555555555556,
              "#000016"
             ],
             [
              0.6666666666666666,
              "#000017"
             ],
             [
              0.7777777777777778,
              "#000018"
             ],
             [
              0.8888888888888888,
              "#000019"
             ],
             [
              1,
              "#000020"
             ]
            ],
            "type": "histogram2d"
           }
          ],
          "icicle": [
           {
            "textfont": {
             "color": "white"
            },
            "type": "icicle"
           }
          ],
          "sankey": [
           {
            "textfont": {
             "color": "#000036"
            },
            "type": "sankey"
           }
          ],
          "scatter": [
           {
            "marker": {
             "line": {
              "width": 0
             }
            },
            "type": "scatter"
           }
          ],
          "table": [
           {
            "cells": {
             "fill": {
              "color": "#000038"
             },
             "font": {
              "color": "#000037"
             },
             "line": {
              "color": "#000039"
             }
            },
            "header": {
             "fill": {
              "color": "#000040"
             },
             "font": {
              "color": "#000036"
             },
             "line": {
              "color": "#000039"
             }
            },
            "type": "table"
           }
          ],
          "waterfall": [
           {
            "connector": {
             "line": {
              "color": "#000036",
              "width": 2
             }
            },
            "decreasing": {
             "marker": {
              "color": "#000033"
             }
            },
            "increasing": {
             "marker": {
              "color": "#000032"
             }
            },
            "totals": {
             "marker": {
              "color": "#000034"
             }
            },
            "type": "waterfall"
           }
          ]
         },
         "layout": {
          "coloraxis": {
           "colorscale": [
            [
             0,
             "#000011"
            ],
            [
             0.1111111111111111,
             "#000012"
            ],
            [
             0.2222222222222222,
             "#000013"
            ],
            [
             0.3333333333333333,
             "#000014"
            ],
            [
             0.4444444444444444,
             "#000015"
            ],
            [
             0.5555555555555556,
             "#000016"
            ],
            [
             0.6666666666666666,
             "#000017"
            ],
            [
             0.7777777777777778,
             "#000018"
            ],
            [
             0.8888888888888888,
             "#000019"
            ],
            [
             1,
             "#000020"
            ]
           ]
          },
          "colorscale": {
           "diverging": [
            [
             0,
             "#000021"
            ],
            [
             0.1,
             "#000022"
            ],
            [
             0.2,
             "#000023"
            ],
            [
             0.3,
             "#000024"
            ],
            [
             0.4,
             "#000025"
            ],
            [
             0.5,
             "#000026"
            ],
            [
             0.6,
             "#000027"
            ],
            [
             0.7,
             "#000028"
            ],
            [
             0.8,
             "#000029"
            ],
            [
             0.9,
             "#000030"
            ],
            [
             1,
             "#000031"
            ]
           ],
           "sequential": [
            [
             0,
             "#000011"
            ],
            [
             0.1111111111111111,
             "#000012"
            ],
            [
             0.2222222222222222,
             "#000013"
            ],
            [
             0.3333333333333333,
             "#000014"
            ],
            [
             0.4444444444444444,
             "#000015"
            ],
            [
             0.5555555555555556,
             "#000016"
            ],
            [
             0.6666666666666666,
             "#000017"
            ],
            [
             0.7777777777777778,
             "#000018"
            ],
            [
             0.8888888888888888,
             "#000019"
            ],
            [
             1,
             "#000020"
            ]
           ],
           "sequentialminus": [
            [
             0,
             "#000011"
            ],
            [
             0.1111111111111111,
             "#000012"
            ],
            [
             0.2222222222222222,
             "#000013"
            ],
            [
             0.3333333333333333,
             "#000014"
            ],
            [
             0.4444444444444444,
             "#000015"
            ],
            [
             0.5555555555555556,
             "#000016"
            ],
            [
             0.6666666666666666,
             "#000017"
            ],
            [
             0.7777777777777778,
             "#000018"
            ],
            [
             0.8888888888888888,
             "#000019"
            ],
            [
             1,
             "#000020"
            ]
           ]
          },
          "colorway": [
           "#000001",
           "#000002",
           "#000003",
           "#000004",
           "#000005",
           "#000006",
           "#000007",
           "#000008",
           "#000009",
           "#000010"
          ]
         }
        },
        "title": {
         "text": "Top 20 Most Popular Start Stations"
        },
        "xaxis": {
         "anchor": "y",
         "domain": [
          0,
          1
         ],
         "tickangle": 45,
         "title": {
          "text": "Station"
         }
        },
        "yaxis": {
         "anchor": "x",
         "domain": [
          0,
          1
         ],
         "title": {
          "text": "Trips"
         }
        }
       }
      },
      "text/html": [
       "<div>                            <div id=\"f414cda7-8481-42ca-856b-ec32ec3daef1\" class=\"plotly-graph-div\" style=\"height:525px; width:100%;\"></div>            <script type=\"text/javascript\">                require([\"plotly\"], function(Plotly) {                    window.PLOTLYENV=window.PLOTLYENV || {};                                    if (document.getElementById(\"f414cda7-8481-42ca-856b-ec32ec3daef1\")) {                    Plotly.newPlot(                        \"f414cda7-8481-42ca-856b-ec32ec3daef1\",                        [{\"alignmentgroup\":\"True\",\"hovertemplate\":\"Station=%{x}\\u003cbr\\u003eTrips=%{marker.color}\\u003cextra\\u003e\\u003c\\u002fextra\\u003e\",\"legendgroup\":\"\",\"marker\":{\"color\":[3,2,2,2,2,2,2,2,2,2,2,2,2,1,1,1,1,1,1,1],\"coloraxis\":\"coloraxis\",\"pattern\":{\"shape\":\"\"}},\"name\":\"\",\"offsetgroup\":\"\",\"orientation\":\"v\",\"showlegend\":false,\"textposition\":\"auto\",\"x\":[\"E 33 St & 1 Ave\",\"Forsyth St\\\\t& Grand St\",\"Richardson St & N Henry St\",\"W 4 St & 7 Ave S\",\"E 39 St & Lexington Ave\",\"E 4 St & 2 Ave\",\"W 50 St & 9 Ave\",\"8 Ave & W 31 St\",\"Degraw St & Smith St\",\"2 Ave & E 29 St\",\"1 Ave & E 39 St\",\"1 Ave & E 62 St\",\"11 Ave & W 41 St\",\"Jay St & Tech Pl\",\"Van Buren St & Broadway\",\"Union St & Nevins St\",\"Underhill Ave & Lincoln Pl\",\"Suydam St & Broadway\",\"St Nicholas Ave & W 150 St\",\"Greenwich St & Perry St\"],\"xaxis\":\"x\",\"y\":[3,2,2,2,2,2,2,2,2,2,2,2,2,1,1,1,1,1,1,1],\"yaxis\":\"y\",\"type\":\"bar\"}],                        {\"template\":{\"data\":{\"candlestick\":[{\"decreasing\":{\"line\":{\"color\":\"#000033\"}},\"increasing\":{\"line\":{\"color\":\"#000032\"}},\"type\":\"candlestick\"}],\"contourcarpet\":[{\"colorscale\":[[0.0,\"#000011\"],[0.1111111111111111,\"#000012\"],[0.2222222222222222,\"#000013\"],[0.3333333333333333,\"#000014\"],[0.4444444444444444,\"#000015\"],[0.5555555555555556,\"#000016\"],[0.6666666666666666,\"#000017\"],[0.7777777777777778,\"#000018\"],[0.8888888888888888,\"#000019\"],[1.0,\"#000020\"]],\"type\":\"contourcarpet\"}],\"contour\":[{\"colorscale\":[[0.0,\"#000011\"],[0.1111111111111111,\"#000012\"],[0.2222222222222222,\"#000013\"],[0.3333333333333333,\"#000014\"],[0.4444444444444444,\"#000015\"],[0.5555555555555556,\"#000016\"],[0.6666666666666666,\"#000017\"],[0.7777777777777778,\"#000018\"],[0.8888888888888888,\"#000019\"],[1.0,\"#000020\"]],\"type\":\"contour\"}],\"heatmap\":[{\"colorscale\":[[0.0,\"#000011\"],[0.1111111111111111,\"#000012\"],[0.2222222222222222,\"#000013\"],[0.3333333333333333,\"#000014\"],[0.4444444444444444,\"#000015\"],[0.5555555555555556,\"#000016\"],[0.6666666666666666,\"#000017\"],[0.7777777777777778,\"#000018\"],[0.8888888888888888,\"#000019\"],[1.0,\"#000020\"]],\"type\":\"heatmap\"}],\"histogram2d\":[{\"colorscale\":[[0.0,\"#000011\"],[0.1111111111111111,\"#000012\"],[0.2222222222222222,\"#000013\"],[0.3333333333333333,\"#000014\"],[0.4444444444444444,\"#000015\"],[0.5555555555555556,\"#000016\"],[0.6666666666666666,\"#000017\"],[0.7777777777777778,\"#000018\"],[0.8888888888888888,\"#000019\"],[1.0,\"#000020\"]],\"type\":\"histogram2d\"}],\"icicle\":[{\"textfont\":{\"color\":\"white\"},\"type\":\"icicle\"}],\"sankey\":[{\"textfont\":{\"color\":\"#000036\"},\"type\":\"sankey\"}],\"scatter\":[{\"marker\":{\"line\":{\"width\":0}},\"type\":\"scatter\"}],\"table\":[{\"cells\":{\"fill\":{\"color\":\"#000038\"},\"font\":{\"color\":\"#000037\"},\"line\":{\"color\":\"#000039\"}},\"header\":{\"fill\":{\"color\":\"#000040\"},\"font\":{\"color\":\"#000036\"},\"line\":{\"color\":\"#000039\"}},\"type\":\"table\"}],\"waterfall\":[{\"connector\":{\"line\":{\"color\":\"#000036\",\"width\":2}},\"decreasing\":{\"marker\":{\"color\":\"#000033\"}},\"increasing\":{\"marker\":{\"color\":\"#000032\"}},\"totals\":{\"marker\":{\"color\":\"#000034\"}},\"type\":\"waterfall\"}]},\"layout\":{\"coloraxis\":{\"colorscale\":[[0.0,\"#000011\"],[0.1111111111111111,\"#000012\"],[0.2222222222222222,\"#000013\"],[0.3333333333333333,\"#000014\"],[0.4444444444444444,\"#000015\"],[0.5555555555555556,\"#000016\"],[0.6666666666666666,\"#000017\"],[0.7777777777777778,\"#000018\"],[0.8888888888888888,\"#000019\"],[1.0,\"#000020\"]]},\"colorscale\":{\"diverging\":[[0.0,\"#000021\"],[0.1,\"#000022\"],[0.2,\"#000023\"],[0.3,\"#000024\"],[0.4,\"#000025\"],[0.5,\"#000026\"],[0.6,\"#000027\"],[0.7,\"#000028\"],[0.8,\"#000029\"],[0.9,\"#000030\"],[1.0,\"#000031\"]],\"sequential\":[[0.0,\"#000011\"],[0.1111111111111111,\"#000012\"],[0.2222222222222222,\"#000013\"],[0.3333333333333333,\"#000014\"],[0.4444444444444444,\"#000015\"],[0.5555555555555556,\"#000016\"],[0.6666666666666666,\"#000017\"],[0.7777777777777778,\"#000018\"],[0.8888888888888888,\"#000019\"],[1.0,\"#000020\"]],\"sequentialminus\":[[0.0,\"#000011\"],[0.1111111111111111,\"#000012\"],[0.2222222222222222,\"#000013\"],[0.3333333333333333,\"#000014\"],[0.4444444444444444,\"#000015\"],[0.5555555555555556,\"#000016\"],[0.6666666666666666,\"#000017\"],[0.7777777777777778,\"#000018\"],[0.8888888888888888,\"#000019\"],[1.0,\"#000020\"]]},\"colorway\":[\"#000001\",\"#000002\",\"#000003\",\"#000004\",\"#000005\",\"#000006\",\"#000007\",\"#000008\",\"#000009\",\"#000010\"]}},\"xaxis\":{\"anchor\":\"y\",\"domain\":[0.0,1.0],\"title\":{\"text\":\"Station\"},\"tickangle\":45},\"yaxis\":{\"anchor\":\"x\",\"domain\":[0.0,1.0],\"title\":{\"text\":\"Trips\"}},\"coloraxis\":{\"colorbar\":{\"title\":{\"text\":\"Trips\"}},\"colorscale\":[[0.0,\"rgb(247,251,255)\"],[0.125,\"rgb(222,235,247)\"],[0.25,\"rgb(198,219,239)\"],[0.375,\"rgb(158,202,225)\"],[0.5,\"rgb(107,174,214)\"],[0.625,\"rgb(66,146,198)\"],[0.75,\"rgb(33,113,181)\"],[0.875,\"rgb(8,81,156)\"],[1.0,\"rgb(8,48,107)\"]]},\"legend\":{\"tracegroupgap\":0},\"title\":{\"text\":\"Top 20 Most Popular Start Stations\"},\"barmode\":\"relative\"},                        {\"responsive\": true}                    ).then(function(){\n",
       "                            \n",
       "var gd = document.getElementById('f414cda7-8481-42ca-856b-ec32ec3daef1');\n",
       "var x = new MutationObserver(function (mutations, observer) {{\n",
       "        var display = window.getComputedStyle(gd).display;\n",
       "        if (!display || display === 'none') {{\n",
       "            console.log([gd, 'removed!']);\n",
       "            Plotly.purge(gd);\n",
       "            observer.disconnect();\n",
       "        }}\n",
       "}});\n",
       "\n",
       "// Listen for the removal of the full notebook cells\n",
       "var notebookContainer = gd.closest('#notebook-container');\n",
       "if (notebookContainer) {{\n",
       "    x.observe(notebookContainer, {childList: true});\n",
       "}}\n",
       "\n",
       "// Listen for the clearing of the current output cell\n",
       "var outputEl = gd.closest('.output');\n",
       "if (outputEl) {{\n",
       "    x.observe(outputEl, {childList: true});\n",
       "}}\n",
       "\n",
       "                        })                };                });            </script>        </div>"
      ]
     },
     "metadata": {},
     "output_type": "display_data"
    },
    {
     "data": {
      "application/vnd.plotly.v1+json": {
       "config": {
        "plotlyServerURL": "https://plot.ly"
       },
       "data": [
        {
         "mode": "lines",
         "name": "Temperature (TAVG_F)",
         "type": "scatter",
         "x": [
          "2021-01-30T00:00:00",
          "2022-01-20T00:00:00",
          "2022-01-28T00:00:00",
          "2022-01-30T00:00:00",
          "2022-01-31T00:00:00"
         ],
         "xaxis": "x",
         "y": [
          null,
          35.06,
          32.63,
          20.66,
          24.71
         ],
         "yaxis": "y"
        },
        {
         "mode": "lines",
         "name": "Trips",
         "type": "scatter",
         "x": [
          "2021-01-30T00:00:00",
          "2022-01-20T00:00:00",
          "2022-01-28T00:00:00",
          "2022-01-30T00:00:00",
          "2022-01-31T00:00:00"
         ],
         "xaxis": "x",
         "y": [
          1,
          1,
          1,
          1,
          105
         ],
         "yaxis": "y2"
        }
       ],
       "layout": {
        "legend": {
         "orientation": "h",
         "x": 0,
         "xanchor": "left",
         "y": 1.02,
         "yanchor": "bottom"
        },
        "template": {
         "data": {
          "candlestick": [
           {
            "decreasing": {
             "line": {
              "color": "#000033"
             }
            },
            "increasing": {
             "line": {
              "color": "#000032"
             }
            },
            "type": "candlestick"
           }
          ],
          "contour": [
           {
            "colorscale": [
             [
              0,
              "#000011"
             ],
             [
              0.1111111111111111,
              "#000012"
             ],
             [
              0.2222222222222222,
              "#000013"
             ],
             [
              0.3333333333333333,
              "#000014"
             ],
             [
              0.4444444444444444,
              "#000015"
             ],
             [
              0.5555555555555556,
              "#000016"
             ],
             [
              0.6666666666666666,
              "#000017"
             ],
             [
              0.7777777777777778,
              "#000018"
             ],
             [
              0.8888888888888888,
              "#000019"
             ],
             [
              1,
              "#000020"
             ]
            ],
            "type": "contour"
           }
          ],
          "contourcarpet": [
           {
            "colorscale": [
             [
              0,
              "#000011"
             ],
             [
              0.1111111111111111,
              "#000012"
             ],
             [
              0.2222222222222222,
              "#000013"
             ],
             [
              0.3333333333333333,
              "#000014"
             ],
             [
              0.4444444444444444,
              "#000015"
             ],
             [
              0.5555555555555556,
              "#000016"
             ],
             [
              0.6666666666666666,
              "#000017"
             ],
             [
              0.7777777777777778,
              "#000018"
             ],
             [
              0.8888888888888888,
              "#000019"
             ],
             [
              1,
              "#000020"
             ]
            ],
            "type": "contourcarpet"
           }
          ],
          "heatmap": [
           {
            "colorscale": [
             [
              0,
              "#000011"
             ],
             [
              0.1111111111111111,
              "#000012"
             ],
             [
              0.2222222222222222,
              "#000013"
             ],
             [
              0.3333333333333333,
              "#000014"
             ],
             [
              0.4444444444444444,
              "#000015"
             ],
             [
              0.5555555555555556,
              "#000016"
             ],
             [
              0.6666666666666666,
              "#000017"
             ],
             [
              0.7777777777777778,
              "#000018"
             ],
             [
              0.8888888888888888,
              "#000019"
             ],
             [
              1,
              "#000020"
             ]
            ],
            "type": "heatmap"
           }
          ],
          "histogram2d": [
           {
            "colorscale": [
             [
              0,
              "#000011"
             ],
             [
              0.1111111111111111,
              "#000012"
             ],
             [
              0.2222222222222222,
              "#000013"
             ],
             [
              0.3333333333333333,
              "#000014"
             ],
             [
              0.4444444444444444,
              "#000015"
             ],
             [
              0.5555555555555556,
              "#000016"
             ],
             [
              0.6666666666666666,
              "#000017"
             ],
             [
              0.7777777777777778,
              "#000018"
             ],
             [
              0.8888888888888888,
              "#000019"
             ],
             [
              1,
              "#000020"
             ]
            ],
            "type": "histogram2d"
           }
          ],
          "icicle": [
           {
            "textfont": {
             "color": "white"
            },
            "type": "icicle"
           }
          ],
          "sankey": [
           {
            "textfont": {
             "color": "#000036"
            },
            "type": "sankey"
           }
          ],
          "scatter": [
           {
            "marker": {
             "line": {
              "width": 0
             }
            },
            "type": "scatter"
           }
          ],
          "table": [
           {
            "cells": {
             "fill": {
              "color": "#000038"
             },
             "font": {
              "color": "#000037"
             },
             "line": {
              "color": "#000039"
             }
            },
            "header": {
             "fill": {
              "color": "#000040"
             },
             "font": {
              "color": "#000036"
             },
             "line": {
              "color": "#000039"
             }
            },
            "type": "table"
           }
          ],
          "waterfall": [
           {
            "connector": {
             "line": {
              "color": "#000036",
              "width": 2
             }
            },
            "decreasing": {
             "marker": {
              "color": "#000033"
             }
            },
            "increasing": {
             "marker": {
              "color": "#000032"
             }
            },
            "totals": {
             "marker": {
              "color": "#000034"
             }
            },
            "type": "waterfall"
           }
          ]
         },
         "layout": {
          "coloraxis": {
           "colorscale": [
            [
             0,
             "#000011"
            ],
            [
             0.1111111111111111,
             "#000012"
            ],
            [
             0.2222222222222222,
             "#000013"
            ],
            [
             0.3333333333333333,
             "#000014"
            ],
            [
             0.4444444444444444,
             "#000015"
            ],
            [
             0.5555555555555556,
             "#000016"
            ],
            [
             0.6666666666666666,
             "#000017"
            ],
            [
             0.7777777777777778,
             "#000018"
            ],
            [
             0.8888888888888888,
             "#000019"
            ],
            [
             1,
             "#000020"
            ]
           ]
          },
          "colorscale": {
           "diverging": [
            [
             0,
             "#000021"
            ],
            [
             0.1,
             "#000022"
            ],
            [
             0.2,
             "#000023"
            ],
            [
             0.3,
             "#000024"
            ],
            [
             0.4,
             "#000025"
            ],
            [
             0.5,
             "#000026"
            ],
            [
             0.6,
             "#000027"
            ],
            [
             0.7,
             "#000028"
            ],
            [
             0.8,
             "#000029"
            ],
            [
             0.9,
             "#000030"
            ],
            [
             1,
             "#000031"
            ]
           ],
           "sequential": [
            [
             0,
             "#000011"
            ],
            [
             0.1111111111111111,
             "#000012"
            ],
            [
             0.2222222222222222,
             "#000013"
            ],
            [
             0.3333333333333333,
             "#000014"
            ],
            [
             0.4444444444444444,
             "#000015"
            ],
            [
             0.5555555555555556,
             "#000016"
            ],
            [
             0.6666666666666666,
             "#000017"
            ],
            [
             0.7777777777777778,
             "#000018"
            ],
            [
             0.8888888888888888,
             "#000019"
            ],
            [
             1,
             "#000020"
            ]
           ],
           "sequentialminus": [
            [
             0,
             "#000011"
            ],
            [
             0.1111111111111111,
             "#000012"
            ],
            [
             0.2222222222222222,
             "#000013"
            ],
            [
             0.3333333333333333,
             "#000014"
            ],
            [
             0.4444444444444444,
             "#000015"
            ],
            [
             0.5555555555555556,
             "#000016"
            ],
            [
             0.6666666666666666,
             "#000017"
            ],
            [
             0.7777777777777778,
             "#000018"
            ],
            [
             0.8888888888888888,
             "#000019"
            ],
            [
             1,
             "#000020"
            ]
           ]
          },
          "colorway": [
           "#000001",
           "#000002",
           "#000003",
           "#000004",
           "#000005",
           "#000006",
           "#000007",
           "#000008",
           "#000009",
           "#000010"
          ]
         }
        },
        "title": {
         "text": "Daily Trips vs Temperature (LaGuardia)"
        },
        "xaxis": {
         "anchor": "y",
         "domain": [
          0,
          0.94
         ]
        },
        "yaxis": {
         "anchor": "x",
         "domain": [
          0,
          1
         ],
         "title": {
          "text": "Temperature (TAVG_F)"
         }
        },
        "yaxis2": {
         "anchor": "x",
         "overlaying": "y",
         "side": "right",
         "title": {
          "text": "Trips"
         }
        }
       }
      },
      "text/html": [
       "<div>                            <div id=\"a122fd57-8967-4370-b287-52fe656a5ba6\" class=\"plotly-graph-div\" style=\"height:525px; width:100%;\"></div>            <script type=\"text/javascript\">                require([\"plotly\"], function(Plotly) {                    window.PLOTLYENV=window.PLOTLYENV || {};                                    if (document.getElementById(\"a122fd57-8967-4370-b287-52fe656a5ba6\")) {                    Plotly.newPlot(                        \"a122fd57-8967-4370-b287-52fe656a5ba6\",                        [{\"mode\":\"lines\",\"name\":\"Temperature (TAVG_F)\",\"x\":[\"2021-01-30T00:00:00\",\"2022-01-20T00:00:00\",\"2022-01-28T00:00:00\",\"2022-01-30T00:00:00\",\"2022-01-31T00:00:00\"],\"y\":[null,35.06,32.63,20.66,24.71],\"type\":\"scatter\",\"xaxis\":\"x\",\"yaxis\":\"y\"},{\"mode\":\"lines\",\"name\":\"Trips\",\"x\":[\"2021-01-30T00:00:00\",\"2022-01-20T00:00:00\",\"2022-01-28T00:00:00\",\"2022-01-30T00:00:00\",\"2022-01-31T00:00:00\"],\"y\":[1,1,1,1,105],\"type\":\"scatter\",\"xaxis\":\"x\",\"yaxis\":\"y2\"}],                        {\"template\":{\"data\":{\"candlestick\":[{\"decreasing\":{\"line\":{\"color\":\"#000033\"}},\"increasing\":{\"line\":{\"color\":\"#000032\"}},\"type\":\"candlestick\"}],\"contourcarpet\":[{\"colorscale\":[[0.0,\"#000011\"],[0.1111111111111111,\"#000012\"],[0.2222222222222222,\"#000013\"],[0.3333333333333333,\"#000014\"],[0.4444444444444444,\"#000015\"],[0.5555555555555556,\"#000016\"],[0.6666666666666666,\"#000017\"],[0.7777777777777778,\"#000018\"],[0.8888888888888888,\"#000019\"],[1.0,\"#000020\"]],\"type\":\"contourcarpet\"}],\"contour\":[{\"colorscale\":[[0.0,\"#000011\"],[0.1111111111111111,\"#000012\"],[0.2222222222222222,\"#000013\"],[0.3333333333333333,\"#000014\"],[0.4444444444444444,\"#000015\"],[0.5555555555555556,\"#000016\"],[0.6666666666666666,\"#000017\"],[0.7777777777777778,\"#000018\"],[0.8888888888888888,\"#000019\"],[1.0,\"#000020\"]],\"type\":\"contour\"}],\"heatmap\":[{\"colorscale\":[[0.0,\"#000011\"],[0.1111111111111111,\"#000012\"],[0.2222222222222222,\"#000013\"],[0.3333333333333333,\"#000014\"],[0.4444444444444444,\"#000015\"],[0.5555555555555556,\"#000016\"],[0.6666666666666666,\"#000017\"],[0.7777777777777778,\"#000018\"],[0.8888888888888888,\"#000019\"],[1.0,\"#000020\"]],\"type\":\"heatmap\"}],\"histogram2d\":[{\"colorscale\":[[0.0,\"#000011\"],[0.1111111111111111,\"#000012\"],[0.2222222222222222,\"#000013\"],[0.3333333333333333,\"#000014\"],[0.4444444444444444,\"#000015\"],[0.5555555555555556,\"#000016\"],[0.6666666666666666,\"#000017\"],[0.7777777777777778,\"#000018\"],[0.8888888888888888,\"#000019\"],[1.0,\"#000020\"]],\"type\":\"histogram2d\"}],\"icicle\":[{\"textfont\":{\"color\":\"white\"},\"type\":\"icicle\"}],\"sankey\":[{\"textfont\":{\"color\":\"#000036\"},\"type\":\"sankey\"}],\"scatter\":[{\"marker\":{\"line\":{\"width\":0}},\"type\":\"scatter\"}],\"table\":[{\"cells\":{\"fill\":{\"color\":\"#000038\"},\"font\":{\"color\":\"#000037\"},\"line\":{\"color\":\"#000039\"}},\"header\":{\"fill\":{\"color\":\"#000040\"},\"font\":{\"color\":\"#000036\"},\"line\":{\"color\":\"#000039\"}},\"type\":\"table\"}],\"waterfall\":[{\"connector\":{\"line\":{\"color\":\"#000036\",\"width\":2}},\"decreasing\":{\"marker\":{\"color\":\"#000033\"}},\"increasing\":{\"marker\":{\"color\":\"#000032\"}},\"totals\":{\"marker\":{\"color\":\"#000034\"}},\"type\":\"waterfall\"}]},\"layout\":{\"coloraxis\":{\"colorscale\":[[0.0,\"#000011\"],[0.1111111111111111,\"#000012\"],[0.2222222222222222,\"#000013\"],[0.3333333333333333,\"#000014\"],[0.4444444444444444,\"#000015\"],[0.5555555555555556,\"#000016\"],[0.6666666666666666,\"#000017\"],[0.7777777777777778,\"#000018\"],[0.8888888888888888,\"#000019\"],[1.0,\"#000020\"]]},\"colorscale\":{\"diverging\":[[0.0,\"#000021\"],[0.1,\"#000022\"],[0.2,\"#000023\"],[0.3,\"#000024\"],[0.4,\"#000025\"],[0.5,\"#000026\"],[0.6,\"#000027\"],[0.7,\"#000028\"],[0.8,\"#000029\"],[0.9,\"#000030\"],[1.0,\"#000031\"]],\"sequential\":[[0.0,\"#000011\"],[0.1111111111111111,\"#000012\"],[0.2222222222222222,\"#000013\"],[0.3333333333333333,\"#000014\"],[0.4444444444444444,\"#000015\"],[0.5555555555555556,\"#000016\"],[0.6666666666666666,\"#000017\"],[0.7777777777777778,\"#000018\"],[0.8888888888888888,\"#000019\"],[1.0,\"#000020\"]],\"sequentialminus\":[[0.0,\"#000011\"],[0.1111111111111111,\"#000012\"],[0.2222222222222222,\"#000013\"],[0.3333333333333333,\"#000014\"],[0.4444444444444444,\"#000015\"],[0.5555555555555556,\"#000016\"],[0.6666666666666666,\"#000017\"],[0.7777777777777778,\"#000018\"],[0.8888888888888888,\"#000019\"],[1.0,\"#000020\"]]},\"colorway\":[\"#000001\",\"#000002\",\"#000003\",\"#000004\",\"#000005\",\"#000006\",\"#000007\",\"#000008\",\"#000009\",\"#000010\"]}},\"xaxis\":{\"anchor\":\"y\",\"domain\":[0.0,0.94]},\"yaxis\":{\"anchor\":\"x\",\"domain\":[0.0,1.0],\"title\":{\"text\":\"Temperature (TAVG_F)\"}},\"yaxis2\":{\"anchor\":\"x\",\"overlaying\":\"y\",\"side\":\"right\",\"title\":{\"text\":\"Trips\"}},\"legend\":{\"orientation\":\"h\",\"yanchor\":\"bottom\",\"y\":1.02,\"xanchor\":\"left\",\"x\":0},\"title\":{\"text\":\"Daily Trips vs Temperature (LaGuardia)\"}},                        {\"responsive\": true}                    ).then(function(){\n",
       "                            \n",
       "var gd = document.getElementById('a122fd57-8967-4370-b287-52fe656a5ba6');\n",
       "var x = new MutationObserver(function (mutations, observer) {{\n",
       "        var display = window.getComputedStyle(gd).display;\n",
       "        if (!display || display === 'none') {{\n",
       "            console.log([gd, 'removed!']);\n",
       "            Plotly.purge(gd);\n",
       "            observer.disconnect();\n",
       "        }}\n",
       "}});\n",
       "\n",
       "// Listen for the removal of the full notebook cells\n",
       "var notebookContainer = gd.closest('#notebook-container');\n",
       "if (notebookContainer) {{\n",
       "    x.observe(notebookContainer, {childList: true});\n",
       "}}\n",
       "\n",
       "// Listen for the clearing of the current output cell\n",
       "var outputEl = gd.closest('.output');\n",
       "if (outputEl) {{\n",
       "    x.observe(outputEl, {childList: true});\n",
       "}}\n",
       "\n",
       "                        })                };                });            </script>        </div>"
      ]
     },
     "metadata": {},
     "output_type": "display_data"
    },
    {
     "name": "stdout",
     "output_type": "stream",
     "text": [
      "Charts rendered. Add nyc_trip_map.html to your Streamlit app folder to embed the Kepler map.\n"
     ]
    }
   ],
   "source": [
    "# 1) Load trips sample (<25 MB)\n",
    "\n",
    "trips = pd.read_csv(\"citibike_2022_1months.csv\", parse_dates=[\"started_at\"])\n",
    "\n",
    "\n",
    "# 2) Build Top Stations (for bar)\n",
    "\n",
    "top_stations = (\n",
    "    trips.groupby(\"start_station_name\", as_index=False)\n",
    "         .size()\n",
    "         .rename(columns={\"size\": \"trip_count\"})\n",
    "         .sort_values(\"trip_count\", ascending=False)\n",
    ")\n",
    "top_stations.to_csv(\"top_stations.csv\", index=False)\n",
    "print(\"✅ Saved top_stations.csv\")\n",
    "\n",
    "\n",
    "# 3) Load & prep LaGuardia weather (NOAA CSV)\n",
    "\n",
    "# Expected columns (typical NOAA daily): date, datatype (TMAX/TMIN/PRCP), value\n",
    "# - value usually in tenths (°C for temps, mm for precipitation)\n",
    "w = pd.read_csv(\"laguardia_weather_2022_1months.csv\")\n",
    "\n",
    "# normalize column names\n",
    "w.columns = [c.strip().lower() for c in w.columns]\n",
    "\n",
    "# minimal column checks\n",
    "if not {\"date\", \"datatype\", \"value\"} <= set(w.columns):\n",
    "    raise KeyError(\"Weather CSV must have at least columns: date, datatype, value\")\n",
    "\n",
    "# ensure datetime\n",
    "w[\"date\"] = pd.to_datetime(w[\"date\"].astype(str).str[:10], errors=\"coerce\")\n",
    "\n",
    "# pivot to wide: one row per day with TMAX/TMIN/PRCP columns\n",
    "weather_daily = (\n",
    "    w.pivot_table(index=\"date\", columns=\"datatype\", values=\"value\", aggfunc=\"mean\")\n",
    "      .reset_index()\n",
    ")\n",
    "\n",
    "# If NOAA tenths-of-units, convert:\n",
    "# - Temps (TMAX/TMIN) tenths of °C → °C (and optional °F)\n",
    "# - PRCP tenths of mm → mm\n",
    "for col in [\"TMAX\", \"TMIN\", \"PRCP\"]:\n",
    "    if col in weather_daily.columns:\n",
    "        # convert tenths to 1x units\n",
    "        weather_daily[col] = weather_daily[col] / 10.0\n",
    "\n",
    "# create a convenient average temperature column in °C (and optional °F)\n",
    "if {\"TMAX\", \"TMIN\"} <= set(weather_daily.columns):\n",
    "    weather_daily[\"TAVG_C\"] = (weather_daily[\"TMAX\"] + weather_daily[\"TMIN\"]) / 2.0\n",
    "elif \"TMAX\" in weather_daily.columns:\n",
    "    weather_daily[\"TAVG_C\"] = weather_daily[\"TMAX\"]\n",
    "elif \"TMIN\" in weather_daily.columns:\n",
    "    weather_daily[\"TAVG_C\"] = weather_daily[\"TMIN\"]\n",
    "else:\n",
    "    weather_daily[\"TAVG_C\"] = pd.NA\n",
    "\n",
    "weather_daily[\"TAVG_F\"] = weather_daily[\"TAVG_C\"] * 9/5 + 32\n",
    "\n",
    "\n",
    "# 4) Daily trips + merge WX\n",
    "\n",
    "daily_trips = (\n",
    "    trips.assign(date=trips[\"started_at\"].dt.date)\n",
    "         .groupby(\"date\", as_index=False)[\"started_at\"]\n",
    "         .count()\n",
    "         .rename(columns={\"started_at\": \"trip_count\"})\n",
    ")\n",
    "daily_trips[\"date\"] = pd.to_datetime(daily_trips[\"date\"])\n",
    "\n",
    "# merge with weather on date\n",
    "daily = daily_trips.merge(weather_daily, on=\"date\", how=\"left\")\n",
    "daily.to_csv(\"daily_trips.csv\", index=False)\n",
    "print(\"Saved daily_trips.csv (with weather columns)\")\n",
    "\n",
    "\n",
    "# 5) Plotly – Top stations bar (notebook)\n",
    "\n",
    "fig_bar = px.bar(\n",
    "    top_stations.head(20),\n",
    "    x=\"start_station_name\",\n",
    "    y=\"trip_count\",\n",
    "    title=\"Top 20 Most Popular Start Stations\",\n",
    "    color=\"trip_count\",\n",
    "    color_continuous_scale=\"Blues\",\n",
    "    labels={\"start_station_name\": \"Station\", \"trip_count\": \"Trips\"}\n",
    ")\n",
    "fig_bar.update_layout(xaxis_tickangle=45)\n",
    "fig_bar.show()\n",
    "\n",
    "\n",
    "# 6) Plotly – Dual-axis: Trips vs Temperature (TAVG_F)\n",
    "\n",
    "# choose a temperature column to display; prefer TAVG_F, fall back to TAVG_C or TMAX\n",
    "temp_col = None\n",
    "for c in [\"TAVG_F\", \"TAVG_C\", \"TMAX\"]:\n",
    "    if c in daily.columns:\n",
    "        temp_col = c\n",
    "        break\n",
    "\n",
    "fig_dual = make_subplots(specs=[[{\"secondary_y\": True}]])\n",
    "# temperature on left (y1), trips on right (y2) or vice-versa—your choice\n",
    "fig_dual.add_trace(\n",
    "    go.Scatter(x=daily[\"date\"], y=daily[temp_col], name=f\"Temperature ({temp_col})\", mode=\"lines\"),\n",
    "    secondary_y=False\n",
    ")\n",
    "fig_dual.add_trace(\n",
    "    go.Scatter(x=daily[\"date\"], y=daily[\"trip_count\"], name=\"Trips\", mode=\"lines\"),\n",
    "    secondary_y=True\n",
    ")\n",
    "fig_dual.update_layout(\n",
    "    title=\"Daily Trips vs Temperature (LaGuardia)\",\n",
    "    legend=dict(orientation=\"h\", yanchor=\"bottom\", y=1.02, xanchor=\"left\", x=0)\n",
    ")\n",
    "fig_dual.update_yaxes(title_text=f\"Temperature ({temp_col})\", secondary_y=False)\n",
    "fig_dual.update_yaxes(title_text=\"Trips\", secondary_y=True)\n",
    "fig_dual.show()\n",
    "\n",
    "# (Optional) Save HTMLs for quick share/check\n",
    "fig_bar.write_html(\"bar_top_stations.html\")\n",
    "fig_dual.write_html(\"dual_trips_temp.html\")\n",
    "\n",
    "print(\"Charts rendered. Add nyc_trip_map.html to your Streamlit app folder to embed the Kepler map.\")"
   ]
  },
  {
   "cell_type": "code",
   "execution_count": 55,
   "id": "b07e9bcc-f273-4d68-8c98-2e0f3df34e35",
   "metadata": {
    "executionInfo": {
     "elapsed": 3166,
     "status": "aborted",
     "timestamp": 1755816961635,
     "user": {
      "displayName": "Faria Jaheen",
      "userId": "03238593764288616100"
     },
     "user_tz": 240
    },
    "id": "b07e9bcc-f273-4d68-8c98-2e0f3df34e35"
   },
   "outputs": [
    {
     "name": "stderr",
     "output_type": "stream",
     "text": [
      "2025-08-21 19:25:55.068 No runtime found, using MemoryCacheStorageManager\n"
     ]
    }
   ],
   "source": [
    "# app2.py – Streamlit Dashboard\n",
    "\n",
    "import streamlit as st\n",
    "import streamlit.components.v1 as components\n",
    "import pandas as pd\n",
    "import plotly.express as px\n",
    "import plotly.graph_objects as go\n",
    "from plotly.subplots import make_subplots\n",
    "import os\n",
    "from pathlib import Path\n",
    "import gzip\n",
    "\n",
    "# ---- Page Config ----\n",
    "st.set_page_config(page_title=\"NYC Citi Bike Dashboard\", layout=\"wide\")\n",
    "\n",
    "st.title(\"NYC Citi Bike – Interactive Dashboard\")\n",
    "st.write(\"Explore station popularity, seasonality vs temperature, and flows (Kepler map).\")\n",
    "\n",
    "# ---- Cached Data Loader ----\n",
    "@st.cache_data\n",
    "def load_data():\n",
    "    daily = pd.read_csv(\"daily_trips.csv\", parse_dates=[\"date\"])\n",
    "    top_stations = pd.read_csv(\"top_stations.csv\")\n",
    "    return daily, top_stations\n",
    "\n",
    "# ---- File Guard ----\n",
    "missing = [p for p in [\"daily_trips.csv\", \"top_stations.csv\"] if not os.path.exists(p)]\n",
    "if missing:\n",
    "    st.error(f\"Missing files: {', '.join(missing)}. Generate them from your notebook first.\")\n",
    "    st.stop()\n",
    "\n",
    "daily, top_stations = load_data()\n",
    "\n",
    "# ---- Sidebar Filters ----\n",
    "with st.sidebar:\n",
    "    st.header(\"Filters\")\n",
    "    dmin, dmax = daily[\"date\"].min().date(), daily[\"date\"].max().date()\n",
    "    date_sel = st.date_input(\"Date range\", (dmin, dmax), min_value=dmin, max_value=dmax)\n",
    "\n",
    "    if isinstance(date_sel, tuple) and len(date_sel) == 2:\n",
    "        start, end = date_sel\n",
    "    else:\n",
    "        start, end = dmin, dmax\n",
    "\n",
    "    daily_f = daily[(daily[\"date\"] >= pd.to_datetime(start)) & (daily[\"date\"] <= pd.to_datetime(end))]\n",
    "\n",
    "# ---- Plotly Bar: Top Stations ----\n",
    "fig_bar = px.bar(\n",
    "    top_stations.head(20),\n",
    "    x=\"start_station_name\",\n",
    "    y=\"trip_count\",\n",
    "    title=\"Top 20 Most Popular Start Stations\",\n",
    "    color=\"trip_count\",\n",
    "    color_continuous_scale=\"Blues\",\n",
    "    labels={\"start_station_name\": \"Station\", \"trip_count\": \"Trips\"}\n",
    ")\n",
    "fig_bar.update_layout(xaxis_tickangle=45)\n",
    "\n",
    "st.subheader(\"Most Popular Stations\")\n",
    "st.plotly_chart(fig_bar, use_container_width=True)\n",
    "\n",
    "# ---- Plotly Dual-axis: Trips vs Temperature ----\n",
    "temp_col = next((c for c in [\"TAVG_F\", \"TAVG_C\", \"TMAX\"] if c in daily_f.columns), None)\n",
    "\n",
    "if temp_col is None:\n",
    "    st.warning(\"No temperature column found (expected TAVG_F, TAVG_C, or TMAX). Showing trips only.\")\n",
    "    fig_dual = go.Figure(go.Scatter(x=daily_f[\"date\"], y=daily_f[\"trip_count\"], name=\"Trips\", mode=\"lines\"))\n",
    "else:\n",
    "    fig_dual = make_subplots(specs=[[{\"secondary_y\": True}]])\n",
    "    fig_dual.add_trace(\n",
    "        go.Scatter(x=daily_f[\"date\"], y=daily_f[temp_col], name=f\"Temperature ({temp_col})\", mode=\"lines\"),\n",
    "        secondary_y=False\n",
    "    )\n",
    "    fig_dual.add_trace(\n",
    "        go.Scatter(x=daily_f[\"date\"], y=daily_f[\"trip_count\"], name=\"Trips\", mode=\"lines\"),\n",
    "        secondary_y=True\n",
    "    )\n",
    "    fig_dual.update_yaxes(title_text=f\"Temperature ({temp_col})\", secondary_y=False)\n",
    "    fig_dual.update_yaxes(title_text=\"Trips\", secondary_y=True)\n",
    "\n",
    "fig_dual.update_layout(title=\"Daily Trips vs Temperature\", legend=dict(orientation=\"h\", y=1.05))\n",
    "\n",
    "st.subheader(\"Trips vs Temperature\")\n",
    "st.plotly_chart(fig_dual, use_container_width=True)\n",
    "\n",
    "# ---- Kepler Map (embed the exported HTML) ----\n",
    "st.subheader(\"Flows (Kepler.gl Map)\")\n",
    "\n",
    "def load_map_html():\n",
    "    gz = Path(\"nyc_trip_map.html.gz\")\n",
    "    if gz.exists():\n",
    "        with gzip.open(gz, \"rt\", encoding=\"utf-8\", errors=\"ignore\") as f:\n",
    "            return f.read()\n",
    "    html = Path(\"nyc_trip_map.html\")\n",
    "    if html.exists():\n",
    "        return html.read_text(encoding=\"utf-8\", errors=\"ignore\")\n",
    "    return None\n",
    "\n",
    "map_html = load_map_html()\n",
    "\n",
    "if map_html:\n",
    "    components.html(map_html, height=620, scrolling=True)\n",
    "else:\n",
    "    st.warning(\"Add nyc_trip_map.html or nyc_trip_map.html.gz to this folder to display the Kepler map.\")"
   ]
  },
  {
   "cell_type": "code",
   "execution_count": null,
   "id": "fa18bada-6548-4bd6-9fd8-975b08f98294",
   "metadata": {},
   "outputs": [],
   "source": []
  }
 ],
 "metadata": {
  "colab": {
   "provenance": []
  },
  "kernelspec": {
   "display_name": "Python 3 (ipykernel)",
   "language": "python",
   "name": "python3"
  },
  "language_info": {
   "codemirror_mode": {
    "name": "ipython",
    "version": 3
   },
   "file_extension": ".py",
   "mimetype": "text/x-python",
   "name": "python",
   "nbconvert_exporter": "python",
   "pygments_lexer": "ipython3",
   "version": "3.12.3"
  }
 },
 "nbformat": 4,
 "nbformat_minor": 5
}
